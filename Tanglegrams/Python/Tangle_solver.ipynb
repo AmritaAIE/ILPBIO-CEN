{
 "cells": [
  {
   "cell_type": "markdown",
   "id": "94a468eb",
   "metadata": {},
   "source": [
    "The aim of the code is to reduce the numebr of tangles present between the trees given as input in the newick notation and to print the optimised variables when the necessary choice is provided"
   ]
  },
  {
   "cell_type": "code",
   "execution_count": 1,
   "id": "6144256e",
   "metadata": {},
   "outputs": [],
   "source": [
    "# importing necessary packages\n",
    "\n",
    "import re\n",
    "import gurobipy as gp\n",
    "from ete3 import Tree\n",
    "import time\n",
    "\n"
   ]
  },
  {
   "cell_type": "code",
   "execution_count": 2,
   "id": "1042e429",
   "metadata": {},
   "outputs": [],
   "source": [
    "def Tanglegram_solver(Tree_1,Tree_2):\n",
    "    start = time.time()\n",
    "\n",
    "    # make an ete3 object using the given tree\n",
    "    t1 = Tree(Tree_1)\n",
    "    print(\"First tree : \\n\",t1,\"\\n\")\n",
    "\n",
    "    # find the nodes and their positions\n",
    "    temp = re.findall(r'\\d+', Tree_1)\n",
    "    res_1 = list(map(int, temp))\n",
    "    # print(res_1)\n",
    "    positions_1 = {r:res_1.index(r) for r in res_1}\n",
    "    "
   ]
  },
  {
   "cell_type": "markdown",
   "id": "1a8c466f",
   "metadata": {},
   "source": [
    "Newick Notation : It is a notation to represent the phylogenetic trees as a string using commas, semicolons, colons, paranthesis. Every string will end with semicolon and the paranthesis are used to group node names. Interior nodes are represented by another set of paranthesis. The sibling sub-trees come inside the same set of paranthesis."
   ]
  },
  {
   "cell_type": "code",
   "execution_count": null,
   "id": "8d5954c2",
   "metadata": {},
   "outputs": [],
   "source": [
    "    \n",
    "    # Performing same operations for tree 2\n",
    "    t2 = Tree(Tree_2)\n",
    "    print(\"Second Tree : \\n\",t2,\"\\n\")\n",
    "    temp = re.findall(r'\\d+', Tree_2)\n",
    "    res_2 = list(map(int, temp))\n",
    "    positions_2 = {r:res_2.index(r) for r in res_2}\n",
    "\n",
    "    # Number of nodes in the tree and the maximum number of variables needed during formulation (tot)\n",
    "    n = len(res_1)\n",
    "    tot = n*(n-1)/2\n",
    "\n",
    "    # creating a gurobipy model and adding the varibles\n",
    "    Tangle = gp.Model()\n",
    "    R1 = Tangle.addMVar(int(tot),vtype = gp.GRB.BINARY,name=\"R1\")\n",
    "    R2 = Tangle.addMVar(int(tot),vtype = gp.GRB.BINARY,name=\"R2\")\n",
    "    X1 = Tangle.addMVar(Tree_1.count(\"(\"),vtype = gp.GRB.BINARY,name=\"X1\")\n",
    "    X2 = Tangle.addMVar(Tree_2.count(\"(\"),vtype = gp.GRB.BINARY,name=\"X2\")\n",
    "    C = Tangle.addMVar(int(tot),vtype = gp.GRB.BINARY,name=\"C\")"
   ]
  },
  {
   "cell_type": "markdown",
   "id": "74cb513f",
   "metadata": {},
   "source": [
    "The variables are declared using the optimvar function , specifying that the variables are integers and are either 1 or 0.\n",
    "The objective function is defined as shown below."
   ]
  },
  {
   "cell_type": "code",
   "execution_count": null,
   "id": "c6e4f9b9",
   "metadata": {},
   "outputs": [],
   "source": [
    "    # OBJECTIVE FUNCTION ( to be minimized )\n",
    "    Tangle.setObjective(sum(C),gp.GRB.MINIMIZE)"
   ]
  },
  {
   "cell_type": "markdown",
   "id": "71cf2570",
   "metadata": {},
   "source": [
    "Then the constraints are added to solve the problem.\n",
    "Since a tangle is formed only when the order of nodes in the trees are different the first set of constraint relating order and tangle is given by :\n",
    "C - R1 + R2 >=0\n",
    "C - R2 + R1 >=0\n",
    "C is the vector representing the tangles between nodes , R1,R2 - the order of the nodes in the first and second tree respectively"
   ]
  },
  {
   "cell_type": "code",
   "execution_count": null,
   "id": "f96ce940",
   "metadata": {},
   "outputs": [],
   "source": [
    "    # adding the constraints\n",
    "    Tangle.addConstr(C-R1+R2>=0,name=\"c1\")\n",
    "    Tangle.addConstr(C-R2+R1>=0,name=\"c2\")\n",
    "\n",
    "    # dictionaries to store the positions of the Least Common Ancestor of nodes (i,j)\n",
    "    Xs1 = dict()\n",
    "    Xs2 = dict()\n",
    "\n",
    "    # function to get the position of the node configuration in the Array Variables ( R1,R2 )\n",
    "    def get_num(m,n):\n",
    "        return int(len(res_1)*(m-1)+n-m*(m+1)/2-1)\n",
    "\n",
    "    global x1 , x2\n",
    "    x1 , x2 = 0 , 0\n",
    "    tangles = 0\n",
    "    # function to find the least common ancestor of i,j and return the position of it in X1,X2\n",
    "    def get_xpos(i,j):\n",
    "        global x1,x2\n",
    "        if (t1.get_common_ancestor(str(i),str(j)) not in Xs1.keys()):\n",
    "            Xs1[t1.get_common_ancestor(str(i),str(j))] = x1\n",
    "            xpos = x1\n",
    "            x1 = x1+1\n",
    "        else:\n",
    "            xpos = Xs1[t1.get_common_ancestor(str(i),str(j))]\n",
    "\n",
    "        if (t2.get_common_ancestor(str(i),str(j)) not in Xs2.keys()):\n",
    "            Xs2[t2.get_common_ancestor(str(i),str(j))] = x2\n",
    "            xpos2 = x2\n",
    "            x2 = x2+1\n",
    "        else:\n",
    "            xpos2 = Xs2[t2.get_common_ancestor(str(i),str(j))]\n",
    "\n",
    "        return xpos,xpos2"
   ]
  },
  {
   "cell_type": "markdown",
   "id": "6dda8388",
   "metadata": {},
   "source": [
    "The second set of constraints relates subtree exchanges (X) and order ,\n",
    "\n",
    "To start writing next set of constraints we first have to ensure that the code uses the same variable for representing the sub-tree exchange about the least common ancestor ( LCA ) for nodes with the same LCA. This is ensured using the get_xpos function which takes the node numbers as arguments and draws the subtree ( with the root as LCA of the given nodes ) and returns the variable corresponding to the least common ancestor in the X1 and X2 arrays.\n",
    "\n",
    "The order of a set of nodes changes when a subtree exchange happens about their least common ancestor , which can be summarised as a constraint :\n",
    "R = 1 - X (if the nodes are in order ( R = 1) the order becomes 0 ( out-order ) if sub-tree exchange has taken place ( X = 1 ))\n",
    "R = X ( if the nodes are initially out order thhe order takes the value of X )"
   ]
  },
  {
   "cell_type": "code",
   "execution_count": null,
   "id": "f0778a7f",
   "metadata": {},
   "outputs": [],
   "source": [
    "for i in range(1,len(res_1)+1):                                 # traversing the trees and determining the constraints\n",
    "        for j in range(i+1,len(res_1)+1):\n",
    "            xpos , xpos2 = get_xpos(i,j)\n",
    "            num = get_num(i,j)\n",
    "\n",
    "            # if they are in order\n",
    "            if positions_1[i]<positions_1[j]:\n",
    "                Tangle.addConstr(R1[num]+X1[xpos] == 1)\n",
    "                # print(f\"R1({num+1   })+X1({xpos+1}) == 1\")\n",
    "                c1 = 1\n",
    "            # if they are out of order\n",
    "            else:\n",
    "                Tangle.addConstr(R1[num]-X1[xpos] == 0)\n",
    "                # print(f\"R1({num+1})-X1({xpos+1}) == 0\")\n",
    "                c1 =0\n",
    "\n",
    "            # similar operations for nodes of tree 2\n",
    "            if positions_2[i]<positions_2[j]:\n",
    "                Tangle.addConstr(R2[num] + X2[xpos2] == 1)\n",
    "                # print(f\"R2({num+1})+X2({xpos2+1}) == 1\")\n",
    "                c2 = 1\n",
    "            else:\n",
    "                Tangle.addConstr(R2[num] - X2[xpos2] == 0)\n",
    "                # print(f\"R2({num+1})-X2({xpos2+1}) == 0\")\n",
    "                c2 = 0\n",
    "\n",
    "            if c1!=c2:\n",
    "                tangles = tangles + 1\n",
    "\n",
    "    after_add = time.time()\n",
    "    print(\"\\n \\n Constarints are completely added at : \",after_add,\"\\n \\n\")\n",
    "\n",
    "    # optimise\n",
    "    Tangle.optimize()\n",
    "    T = time.time()\n",
    "    print(\"The time taken to solve the problem using gurobi optimiser is : \",round(T-after_add,8),\"\\n \\n\")\n",
    "    swapped1 = list()\n",
    "    swapped2 = list()\n",
    "\n",
    "    for i in range(1,len(res_1)+1):\n",
    "        for j in range(i+1,len(res_2)+1):\n",
    "            xpos , xpos2 = get_xpos(i,j)\n",
    "            if Tangle.getVarByName(f\"X1[{xpos}]\").x == 1 and t1.get_common_ancestor(str(i),str(j)) not in swapped1:\n",
    "                t1.get_common_ancestor(str(i),str(j)).swap_children()\n",
    "                swapped1.append(t1.get_common_ancestor(str(i),str(j)))\n",
    "\n",
    "\n",
    "            if Tangle.getVarByName(f\"X2[{xpos2}]\").x == 1 and t2.get_common_ancestor(str(i),str(j)) not in swapped2:\n",
    "                t2.get_common_ancestor(str(i),str(j)).swap_children()\n",
    "                swapped2.append(t2.get_common_ancestor(str(i),str(j)))"
   ]
  },
  {
   "cell_type": "markdown",
   "id": "1de4f273",
   "metadata": {},
   "source": [
    "Inference from the solution"
   ]
  },
  {
   "cell_type": "code",
   "execution_count": null,
   "id": "8d87f6cc",
   "metadata": {},
   "outputs": [],
   "source": [
    "    print(\"The Exchanged Trees are : \\n \\n\",\"Tree 1\")\n",
    "    print(t1)\n",
    "    print(\"\\n \\n Tree 2 \\n\")\n",
    "    print(t2,\"\\n \\n\")\n",
    "    print(\"The number of Tangles are : \",C.sum().getValue() , f\"Reduced from {tangles} number of tangles\")\n",
    "\n",
    "    choice = input(\"would you like to print the results ? (Y - yes ) : \")\n",
    "    if choice == 'Y':\n",
    "        # printing the solution\n",
    "        for v in Tangle.getVars():\n",
    "            print('%s=%g' % (v.varName, v.x))\n",
    "\n",
    "\n",
    "Tanglegram_solver(\"((4,6),((1,5),(2,3)));\",\"((4,(2,(1,5))),(3,6));\")"
   ]
  }
 ],
 "metadata": {
  "kernelspec": {
   "display_name": "Python 3",
   "language": "python",
   "name": "python3"
  },
  "language_info": {
   "codemirror_mode": {
    "name": "ipython",
    "version": 3
   },
   "file_extension": ".py",
   "mimetype": "text/x-python",
   "name": "python",
   "nbconvert_exporter": "python",
   "pygments_lexer": "ipython3",
   "version": "3.8.8"
  }
 },
 "nbformat": 4,
 "nbformat_minor": 5
}
